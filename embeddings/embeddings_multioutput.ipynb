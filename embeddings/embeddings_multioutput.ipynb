{
 "cells": [
  {
   "cell_type": "markdown",
   "metadata": {},
   "source": [
    "# Embeddings with Mutiple Output Variables"
   ]
  },
  {
   "cell_type": "code",
   "execution_count": 1,
   "metadata": {},
   "outputs": [],
   "source": [
    "import numpy as np\n",
    "import matplotlib.pyplot as plt\n",
    "from matplotlib.lines import Line2D\n",
    "from tensorflow import keras\n",
    "from tensorflow.keras import layers"
   ]
  },
  {
   "cell_type": "code",
   "execution_count": 31,
   "metadata": {},
   "outputs": [],
   "source": [
    "N = 10_000\n",
    "n_tokens = 5\n",
    "x = np.random.choice(n_tokens, N)\n",
    "token_effect = np.linspace(start=-20, stop=20, num=n_tokens)\n",
    "token_effect_aux = np.linspace(start=-3, stop=3, num=n_tokens)\n",
    "y = np.random.normal(token_effect[x], scale=2, size=N)\n",
    "y_aux = np.random.binomial(1, 0.5, N)"
   ]
  },
  {
   "cell_type": "code",
   "execution_count": 42,
   "metadata": {},
   "outputs": [],
   "source": [
    "inputs = keras.Input(shape=(1), name='input')\n",
    "\n",
    "em = layers.Embedding(input_dim = n_tokens, output_dim = 4, input_length=1)(inputs)\n",
    "em = layers.Dense(units=10, activation='linear')(em)\n",
    "\n",
    "l = layers.Dense(units=8, activation='linear')(em)\n",
    "l = layers.Dense(units=6, activation='linear')(l)\n",
    "l = layers.Dense(units=4, activation='linear')(l)\n",
    "output = layers.Dense(units=1, activation='linear', name='output')(l)\n",
    "\n",
    "l_aux = layers.Dense(units=8, activation='linear')(em)\n",
    "l_aux = layers.Dense(units=6, activation='linear')(l_aux)\n",
    "l_aux = layers.Dense(units=4, activation='linear')(l_aux)\n",
    "output_aux = layers.Dense(units=1, activation='sigmoid', name='output_aux')(l_aux)\n",
    "\n",
    "model = keras.Model(inputs=inputs, outputs=[output, output_aux])"
   ]
  },
  {
   "cell_type": "code",
   "execution_count": 43,
   "metadata": {},
   "outputs": [],
   "source": [
    "model.compile(optimizer='rmsprop', loss={'output': 'mse', 'output_aux': 'mse'})"
   ]
  },
  {
   "cell_type": "code",
   "execution_count": 44,
   "metadata": {},
   "outputs": [],
   "source": [
    "history = model.fit({'input': x}, {'output': y, 'output_aux': y_aux}, epochs=100, batch_size=1000, validation_split=0, verbose=0)"
   ]
  },
  {
   "cell_type": "code",
   "execution_count": 49,
   "metadata": {},
   "outputs": [
    {
     "data": {
      "image/png": "[encoded data removed]",
      "text/plain": [
       "<Figure size 432x288 with 1 Axes>"
      ]
     },
     "metadata": {
      "needs_background": "light"
     },
     "output_type": "display_data"
    }
   ],
   "source": [
    "loss = history.history['loss']\n",
    "epochs = range(1, len(loss)+1)\n",
    "plt.plot(epochs, loss, color='b', label='Loss')\n",
    "plt.title('Embedding Training Performance')\n",
    "plt.legend()\n",
    "plt.savefig('./img/loss_multi.svg', format='svg')\n",
    "plt.show()"
   ]
  },
  {
   "cell_type": "code",
   "execution_count": null,
   "metadata": {},
   "outputs": [],
   "source": []
  }
 ],
 "metadata": {
  "kernelspec": {
   "display_name": "Python 3",
   "language": "python",
   "name": "python3"
  },
  "language_info": {
   "codemirror_mode": {
    "name": "ipython",
    "version": 3
   },
   "file_extension": ".py",
   "mimetype": "text/x-python",
   "name": "python",
   "nbconvert_exporter": "python",
   "pygments_lexer": "ipython3",
   "version": "3.8.6"
  }
 },
 "nbformat": 4,
 "nbformat_minor": 4
}
