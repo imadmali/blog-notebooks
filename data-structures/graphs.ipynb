{
 "cells": [
  {
   "cell_type": "markdown",
   "metadata": {},
   "source": [
    "## Graphs\n",
    "\n",
    "Storing graphs as a dictionary makes it easy to access all connections for a given node, making it easy to traverse the graph."
   ]
  },
  {
   "cell_type": "code",
   "execution_count": 56,
   "metadata": {},
   "outputs": [],
   "source": [
    "class graph:\n",
    "    \n",
    "    def __init__(self):\n",
    "        self.data = {}\n",
    "    \n",
    "    def __insert_edge(self, start_node, end_node):\n",
    "        if start_node in self.data:\n",
    "            self.data[start_node].append(end_node)\n",
    "        else:\n",
    "            self.data[start_node] = [end_node]\n",
    "    \n",
    "    def insert(self, start_node, end_node):\n",
    "        self.__insert_edge(start_node, end_node)\n",
    "        self.__insert_edge(end_node, start_node)\n",
    "        \n",
    "    def __str__(self):\n",
    "        result = ''\n",
    "        for key, value in self.data.items():\n",
    "            result += '{0} : {1}\\n'.format(key, value)\n",
    "        return(result)"
   ]
  },
  {
   "cell_type": "code",
   "execution_count": 57,
   "metadata": {},
   "outputs": [],
   "source": [
    "data = graph()"
   ]
  },
  {
   "cell_type": "code",
   "execution_count": 58,
   "metadata": {},
   "outputs": [],
   "source": [
    "data.insert('A','B')\n",
    "data.insert('A','C')\n",
    "data.insert('B','C')\n",
    "data.insert('C','D')"
   ]
  },
  {
   "cell_type": "code",
   "execution_count": 61,
   "metadata": {},
   "outputs": [
    {
     "name": "stdout",
     "output_type": "stream",
     "text": [
      "{'A': ['B', 'C'], 'B': ['A', 'C'], 'C': ['A', 'B', 'D'], 'D': ['C']}\n"
     ]
    }
   ],
   "source": [
    "print(data.data)"
   ]
  },
  {
   "cell_type": "code",
   "execution_count": 62,
   "metadata": {},
   "outputs": [
    {
     "name": "stdout",
     "output_type": "stream",
     "text": [
      "A : ['B', 'C']\n",
      "B : ['A', 'C']\n",
      "C : ['A', 'B', 'D']\n",
      "D : ['C']\n",
      "\n"
     ]
    }
   ],
   "source": [
    "print(data)"
   ]
  }
 ],
 "metadata": {
  "kernelspec": {
   "display_name": "Python 3",
   "language": "python",
   "name": "python3"
  },
  "language_info": {
   "codemirror_mode": {
    "name": "ipython",
    "version": 3
   },
   "file_extension": ".py",
   "mimetype": "text/x-python",
   "name": "python",
   "nbconvert_exporter": "python",
   "pygments_lexer": "ipython3",
   "version": "3.7.5"
  }
 },
 "nbformat": 4,
 "nbformat_minor": 4
}
