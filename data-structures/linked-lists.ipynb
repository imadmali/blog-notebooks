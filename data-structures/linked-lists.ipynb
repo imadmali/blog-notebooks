{
 "cells": [
  {
   "cell_type": "markdown",
   "metadata": {},
   "source": [
    "## Linked List"
   ]
  },
  {
   "cell_type": "code",
   "execution_count": 147,
   "metadata": {},
   "outputs": [],
   "source": [
    "class linked_list:\n",
    "    '''\n",
    "    Create a linked list object.\n",
    "    \n",
    "    Attributes\n",
    "    ----------\n",
    "        head: Beginning of linked list\n",
    "    '''\n",
    "    \n",
    "    def __init__(self):\n",
    "        self.head = None\n",
    "        \n",
    "    def add_first(self, node):\n",
    "        node.next = self.head\n",
    "        self.head = node\n",
    "    \n",
    "    def add_last(self, node):\n",
    "        current_node = self.head\n",
    "        while current_node is not None:\n",
    "            previous_node = current_node\n",
    "            current_node = current_node.next\n",
    "        previous_node.next = node\n",
    "    \n",
    "    def __str__(self):\n",
    "        node = self.head\n",
    "        nodes = []\n",
    "        while node is not None:\n",
    "            nodes.append(node.data)\n",
    "            node = node.next\n",
    "        return(str(nodes))\n",
    "\n",
    "class node:\n",
    "    '''\n",
    "    Create a node to be added to the linked list object.\n",
    "    '''\n",
    "    \n",
    "    def __init__(self, data):\n",
    "        self.data = data\n",
    "        self.next = None"
   ]
  },
  {
   "cell_type": "markdown",
   "metadata": {},
   "source": [
    "Manually adding nodes to a linked list."
   ]
  },
  {
   "cell_type": "code",
   "execution_count": 148,
   "metadata": {},
   "outputs": [],
   "source": [
    "node_a = node('A')\n",
    "node_b = node('B')\n",
    "node_c = node('C')\n",
    "\n",
    "ll = linked_list()\n",
    "ll.head = node_a\n",
    "node_a.next = node_b\n",
    "node_b.next = node_c"
   ]
  },
  {
   "cell_type": "code",
   "execution_count": 149,
   "metadata": {},
   "outputs": [
    {
     "name": "stdout",
     "output_type": "stream",
     "text": [
      "['A', 'B', 'C']\n"
     ]
    }
   ],
   "source": [
    "print(ll)"
   ]
  },
  {
   "cell_type": "markdown",
   "metadata": {},
   "source": [
    "Adding a node to the beginning of a linked list."
   ]
  },
  {
   "cell_type": "code",
   "execution_count": 150,
   "metadata": {},
   "outputs": [],
   "source": [
    "ll_new = linked_list()\n",
    "ll_new.add_first(node('X'))\n",
    "ll_new.add_first(node('Y'))\n",
    "ll_new.add_first(node('Z'))"
   ]
  },
  {
   "cell_type": "code",
   "execution_count": 151,
   "metadata": {},
   "outputs": [
    {
     "name": "stdout",
     "output_type": "stream",
     "text": [
      "['Z', 'Y', 'X']\n"
     ]
    }
   ],
   "source": [
    "print(ll_new)"
   ]
  },
  {
   "cell_type": "markdown",
   "metadata": {},
   "source": [
    "Adding a node to the end of a linked list."
   ]
  },
  {
   "cell_type": "code",
   "execution_count": 154,
   "metadata": {},
   "outputs": [],
   "source": [
    "ll_new = linked_list()\n",
    "ll_new.add_first(node('X'))\n",
    "ll_new.add_last(node('Y'))\n",
    "ll_new.add_last(node('Z'))"
   ]
  },
  {
   "cell_type": "code",
   "execution_count": 155,
   "metadata": {},
   "outputs": [
    {
     "name": "stdout",
     "output_type": "stream",
     "text": [
      "['X', 'Y', 'Z']\n"
     ]
    }
   ],
   "source": [
    "print(ll_new)"
   ]
  }
 ],
 "metadata": {
  "kernelspec": {
   "display_name": "Python 3",
   "language": "python",
   "name": "python3"
  },
  "language_info": {
   "codemirror_mode": {
    "name": "ipython",
    "version": 3
   },
   "file_extension": ".py",
   "mimetype": "text/x-python",
   "name": "python",
   "nbconvert_exporter": "python",
   "pygments_lexer": "ipython3",
   "version": "3.7.5"
  }
 },
 "nbformat": 4,
 "nbformat_minor": 4
}
