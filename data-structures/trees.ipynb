{
 "cells": [
  {
   "cell_type": "markdown",
   "metadata": {},
   "source": [
    "## Binary Tree"
   ]
  },
  {
   "cell_type": "code",
   "execution_count": 6,
   "metadata": {},
   "outputs": [],
   "source": [
    "class binary_tree:\n",
    "    \n",
    "    def __init__(self):\n",
    "        self.root = None\n",
    "\n",
    "class node:\n",
    "    \n",
    "    def __init__(self, data):\n",
    "        self.data = data\n",
    "        self.left = None\n",
    "        self.right = None\n",
    "\n",
    "# depth first traversal (using recursion)\n",
    "def print_dfs(start_node):\n",
    "    if start_node is not None:\n",
    "        print(start_node.data)\n",
    "        print_dfs(start_node.left)\n",
    "        print_dfs(start_node.right)\n",
    "\n",
    "# breadth first traversal (using a queue)\n",
    "def print_bfs(start_node):\n",
    "    q = [start_node]\n",
    "    while q:\n",
    "        singleton = q.pop(0)\n",
    "        print(singleton.data)\n",
    "        if singleton.left is not None:\n",
    "            q.append(singleton.left)\n",
    "        if singleton.right is not None:\n",
    "            q.append(singleton.right)"
   ]
  },
  {
   "cell_type": "code",
   "execution_count": 12,
   "metadata": {},
   "outputs": [],
   "source": [
    "bt = binary_tree()\n",
    "# root\n",
    "bt.root = node('A')\n",
    "# level 1\n",
    "bt.root.left = node('B')\n",
    "bt.root.right = node('C')\n",
    "# level 2\n",
    "bt.root.left.left = node('B1')\n",
    "bt.root.left.right = node('B2')\n",
    "bt.root.right.left = node('C1')\n",
    "bt.root.right.right = node('C2')\n",
    "# level 3\n",
    "bt.root.right.left.left = node('C1.a')\n",
    "bt.root.right.left.right = node('C1.b')"
   ]
  },
  {
   "cell_type": "code",
   "execution_count": 13,
   "metadata": {},
   "outputs": [
    {
     "name": "stdout",
     "output_type": "stream",
     "text": [
      "A\n",
      "B\n",
      "B1\n",
      "B2\n",
      "C\n",
      "C1\n",
      "C1.a\n",
      "C1.b\n",
      "C2\n"
     ]
    }
   ],
   "source": [
    "print_dfs(bt.root)"
   ]
  },
  {
   "cell_type": "code",
   "execution_count": 14,
   "metadata": {},
   "outputs": [
    {
     "name": "stdout",
     "output_type": "stream",
     "text": [
      "A\n",
      "B\n",
      "C\n",
      "B1\n",
      "B2\n",
      "C1\n",
      "C2\n",
      "C1.a\n",
      "C1.b\n"
     ]
    }
   ],
   "source": [
    "print_bfs(bt.root)"
   ]
  },
  {
   "cell_type": "code",
   "execution_count": null,
   "metadata": {},
   "outputs": [],
   "source": []
  }
 ],
 "metadata": {
  "kernelspec": {
   "display_name": "Python 3",
   "language": "python",
   "name": "python3"
  },
  "language_info": {
   "codemirror_mode": {
    "name": "ipython",
    "version": 3
   },
   "file_extension": ".py",
   "mimetype": "text/x-python",
   "name": "python",
   "nbconvert_exporter": "python",
   "pygments_lexer": "ipython3",
   "version": "3.7.5"
  }
 },
 "nbformat": 4,
 "nbformat_minor": 4
}
