{
 "cells": [
  {
   "cell_type": "markdown",
   "metadata": {},
   "source": [
    "# Hash Functions/Tables"
   ]
  },
  {
   "cell_type": "markdown",
   "metadata": {},
   "source": [
    "Some useful resources:\n",
    "* https://en.wikipedia.org/wiki/Hash_function\n",
    "* https://www.hackerearth.com/practice/data-structures/hash-tables/basics-of-hash-tables/tutorial/\n",
    "* https://www.geeksforgeeks.org/what-are-hash-functions-and-how-to-choose-a-good-hash-function/\n",
    "\n",
    "Suppose you have an key (e.g. a unique identifier) and some data associated with that key. In some cases you might want to access the data associated with that key by indexing rather than by searching (reducing lookup time to O(1)). This is possible with a hash function and hash table. A **hash function** takes the key and returns a **hash value**, essentially mapping the key to something of fixed length (e.g. an integer). The hash value and the data associated with the key is stored in a **hash table**.\n",
    "\n",
    "Hash functions need to,\n",
    "1. be fast to compute\n",
    "2. have minimal collisions.\n",
    "\n",
    "A collision is when different keys get mapped to the same hash value."
   ]
  },
  {
   "cell_type": "markdown",
   "metadata": {},
   "source": [
    "Get the unicode value for the first character in a string."
   ]
  },
  {
   "cell_type": "code",
   "execution_count": 19,
   "metadata": {},
   "outputs": [
    {
     "name": "stdout",
     "output_type": "stream",
     "text": [
      "adef\n",
      "4\n",
      "97\n"
     ]
    }
   ],
   "source": [
    "foo = 'adef'\n",
    "print(foo)\n",
    "print(len(foo))\n",
    "print(ord(foo[0]))"
   ]
  },
  {
   "cell_type": "markdown",
   "metadata": {},
   "source": [
    "Create a hash function that takes the key and computes `i * ord(key[i])` for each character `i` in the key and sums the result into `key_sum`. This gives an integer value. We can then get the hash value by computing `key_sum` mod table size. (If the table size is too small then we will end up with a lot of collisions. If the table size is too large then we will end up with wasted space.)"
   ]
  },
  {
   "cell_type": "code",
   "execution_count": 2,
   "metadata": {},
   "outputs": [],
   "source": [
    "def hash_function(key, table_size):\n",
    "    \"\"\"Hash function...\"\"\"\n",
    "    \n",
    "    key_ascii = []\n",
    "    key_ascii_sum = 0\n",
    "    \n",
    "    # Convert key to ascii\n",
    "    for i in range(0, len(key)):\n",
    "        singleton_ascii = ord(key[i])\n",
    "        key_ascii.append(singleton_ascii)\n",
    "        key_ascii_sum += singleton_ascii * (i + 1)\n",
    "    \n",
    "    # hash function\n",
    "    \n",
    "    hash_value = key_ascii_sum % table_size\n",
    "    print(key_ascii)\n",
    "    print(key_ascii_sum)\n",
    "    return(hash_value)"
   ]
  },
  {
   "cell_type": "code",
   "execution_count": 6,
   "metadata": {},
   "outputs": [
    {
     "name": "stdout",
     "output_type": "stream",
     "text": [
      "[97, 100, 104]\n",
      "609\n"
     ]
    },
    {
     "data": {
      "text/plain": [
       "9"
      ]
     },
     "execution_count": 6,
     "metadata": {},
     "output_type": "execute_result"
    }
   ],
   "source": [
    "hash_function('adh', 10)"
   ]
  },
  {
   "cell_type": "markdown",
   "metadata": {},
   "source": [
    "Create a class that can convert they key to a hash value and store the results in a hash table. Handle collisions."
   ]
  },
  {
   "cell_type": "code",
   "execution_count": null,
   "metadata": {},
   "outputs": [],
   "source": []
  }
 ],
 "metadata": {
  "kernelspec": {
   "display_name": "Python 3",
   "language": "python",
   "name": "python3"
  },
  "language_info": {
   "codemirror_mode": {
    "name": "ipython",
    "version": 3
   },
   "file_extension": ".py",
   "mimetype": "text/x-python",
   "name": "python",
   "nbconvert_exporter": "python",
   "pygments_lexer": "ipython3",
   "version": "3.7.5"
  }
 },
 "nbformat": 4,
 "nbformat_minor": 4
}
